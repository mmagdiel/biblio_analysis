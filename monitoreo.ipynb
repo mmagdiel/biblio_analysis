{
 "cells": [
  {
   "cell_type": "code",
   "execution_count": null,
   "id": "3d656267-99c4-4156-bbfc-acc6627187a3",
   "metadata": {},
   "outputs": [],
   "source": []
  }
 ],
 "metadata": {
  "kernelspec": {
   "display_name": "",
   "name": ""
  },
  "language_info": {
   "name": ""
  }
 },
 "nbformat": 4,
 "nbformat_minor": 5
}
