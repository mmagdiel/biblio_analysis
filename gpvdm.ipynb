{
 "cells": [
  {
   "cell_type": "code",
   "execution_count": null,
   "id": "4166ca2a-e820-42cb-99a0-c912828c06e4",
   "metadata": {},
   "outputs": [],
   "source": []
  }
 ],
 "metadata": {
  "kernelspec": {
   "display_name": "",
   "name": ""
  },
  "language_info": {
   "name": ""
  }
 },
 "nbformat": 4,
 "nbformat_minor": 5
}
